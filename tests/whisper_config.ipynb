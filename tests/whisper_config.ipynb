{
 "cells": [
  {
   "cell_type": "markdown",
   "metadata": {},
   "source": [
    "# Local Whisper"
   ]
  },
  {
   "cell_type": "code",
   "execution_count": 1,
   "metadata": {},
   "outputs": [],
   "source": [
    "import whisper"
   ]
  },
  {
   "cell_type": "code",
   "execution_count": 2,
   "metadata": {},
   "outputs": [],
   "source": [
    "model = whisper.load_model(\"tiny\", download_root=\"../whisper_model\")"
   ]
  },
  {
   "cell_type": "code",
   "execution_count": 3,
   "metadata": {},
   "outputs": [
    {
     "name": "stderr",
     "output_type": "stream",
     "text": [
      "/home/juanpb27/Proyectos/Logia/whisper_local_vs_online/venv/lib/python3.9/site-packages/whisper/transcribe.py:126: UserWarning: FP16 is not supported on CPU; using FP32 instead\n",
      "  warnings.warn(\"FP16 is not supported on CPU; using FP32 instead\")\n"
     ]
    },
    {
     "name": "stdout",
     "output_type": "stream",
     "text": [
      "\n",
      "🔹 Transcripción final:\n",
      "  Hola, buenos días, ¿cómo está usted? Bienvenidos a la consulta médica del día de hoy. Esta es una prueba para el que tan se escuchan a calidad de avión cuando hablamos. A una autónoma de voz moderada, esto ya aproximadamente como nos treinta centíveros del microfono y quiero saber si la inteligencia de difícil puede capturar todas las palabras que digo sin ningún inconveniente a pesar de que no se escucha tan fuerte. Voy a probar hablando bastante duro, pero también voy a intentar hablar un poco más espacio para ver si se cantura todas las que digo. Mi nombre es Juan, tengo 24 años, tengo más 3 inerías y actualmente estoy desarrollando una aplicación para poder hacer intelientes o poder tener historias finicas que se llenen por su propia cuenta. Muchas gracias.\n"
     ]
    }
   ],
   "source": [
    "transcription_result = model.transcribe(\"../audio.mp3\")\n",
    "transcription_text = transcription_result[\"text\"]\n",
    "\n",
    "print(\"\\n🔹 Transcripción final:\\n\", transcription_text)"
   ]
  },
  {
   "cell_type": "markdown",
   "metadata": {},
   "source": [
    "# Online Whisper"
   ]
  },
  {
   "cell_type": "code",
   "execution_count": 4,
   "metadata": {},
   "outputs": [
    {
     "data": {
      "text/plain": [
       "True"
      ]
     },
     "execution_count": 4,
     "metadata": {},
     "output_type": "execute_result"
    }
   ],
   "source": [
    "import os\n",
    "from openai import OpenAI\n",
    "from dotenv import load_dotenv\n",
    "load_dotenv()"
   ]
  },
  {
   "cell_type": "code",
   "execution_count": 8,
   "metadata": {},
   "outputs": [],
   "source": [
    "AUDIO_PATH = \"../audio.mp3\"\n",
    "FIREWORKS_API_KEY = os.getenv(\"FIREWORKS_API_KEY\")\n",
    "FIREWORKS_MODEL_NAME = \"whisper-v3\""
   ]
  },
  {
   "cell_type": "code",
   "execution_count": 6,
   "metadata": {},
   "outputs": [],
   "source": [
    "client = OpenAI(\n",
    "            api_key=FIREWORKS_API_KEY,\n",
    "            base_url=\"https://api.fireworks.ai/inference/v1\"\n",
    "        )"
   ]
  },
  {
   "cell_type": "code",
   "execution_count": 9,
   "metadata": {},
   "outputs": [
    {
     "name": "stdout",
     "output_type": "stream",
     "text": [
      "Hola, buenos días. ¿Cómo está usted? Bienvenido a la consulta médica del día de hoy. Esta es una prueba para ver qué tal se escucha la calidad de audio cuando hablamos a un tono de voz moderado. Estoy aproximadamente como a unos 30 centímetros del micrófono y quiero saber si la inteligencia artificial puede capturar todas las palabras que digo sin ningún inconveniente a pesar de que no se escuche tan fuerte. Voy a probar hablando bastante duro, pero también voy a intentar hablar un poco más despacio para ver si se capturan todas las palabras que digo. Mi nombre es Juan, tengo 24 años, tengo maestría en ingeniería y actualmente estoy desarrollando una aplicación para poder hacer inteligentes o poder tener historias clínicas que se llenen por su propia cuenta. Muchas gracias.\n"
     ]
    }
   ],
   "source": [
    "with open(AUDIO_PATH, \"rb\") as audio_file:\n",
    "                                transcription_text = client.audio.transcriptions.create(\n",
    "                                    model=FIREWORKS_MODEL_NAME,\n",
    "                                    language=\"es\",\n",
    "                                    file=audio_file,\n",
    "                                    response_format=\"text\",\n",
    "                                    prompt=\"'EDOF', '2+', '3+'\"\n",
    "                                )\n",
    "\n",
    "print(transcription_text)"
   ]
  }
 ],
 "metadata": {
  "kernelspec": {
   "display_name": "venv",
   "language": "python",
   "name": "python3"
  },
  "language_info": {
   "codemirror_mode": {
    "name": "ipython",
    "version": 3
   },
   "file_extension": ".py",
   "mimetype": "text/x-python",
   "name": "python",
   "nbconvert_exporter": "python",
   "pygments_lexer": "ipython3",
   "version": "3.9.21"
  }
 },
 "nbformat": 4,
 "nbformat_minor": 2
}
